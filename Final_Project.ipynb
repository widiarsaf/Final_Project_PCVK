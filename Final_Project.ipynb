{
  "nbformat": 4,
  "nbformat_minor": 0,
  "metadata": {
    "colab": {
      "name": "Final Project.ipynb",
      "provenance": [],
      "collapsed_sections": [],
      "include_colab_link": true
    },
    "kernelspec": {
      "name": "python3",
      "display_name": "Python 3"
    },
    "language_info": {
      "name": "python"
    }
  },
  "cells": [
    {
      "cell_type": "markdown",
      "metadata": {
        "id": "view-in-github",
        "colab_type": "text"
      },
      "source": [
        "<a href=\"https://colab.research.google.com/github/widiarsaf/Final_project_pcvk/blob/master/Final_Project.ipynb\" target=\"_parent\"><img src=\"https://colab.research.google.com/assets/colab-badge.svg\" alt=\"Open In Colab\"/></a>"
      ]
    },
    {
      "cell_type": "code",
      "execution_count": 1,
      "metadata": {
        "id": "6UyIB8XQRmM9",
        "colab": {
          "base_uri": "https://localhost:8080/"
        },
        "outputId": "3bb1d93b-e043-49ac-ba4f-6b0c1dd97c68"
      },
      "outputs": [
        {
          "output_type": "stream",
          "name": "stdout",
          "text": [
            "Drive already mounted at /content/drive; to attempt to forcibly remount, call drive.mount(\"/content/drive\", force_remount=True).\n"
          ]
        }
      ],
      "source": [
        "from google.colab import drive\n",
        "drive.mount('/content/drive')"
      ]
    },
    {
      "cell_type": "code",
      "source": [
        "train_path = '/content/drive/MyDrive/KULIAH/PCVK/final_project/train'\n",
        "test_path = '/content/drive/MyDrive/KULIAH/PCVK/final_project/train'\n"
      ],
      "metadata": {
        "id": "qm64SHdjLCsZ"
      },
      "execution_count": 2,
      "outputs": []
    },
    {
      "cell_type": "code",
      "source": [
        "import numpy as np\n",
        "import matplotlib.pyplot as plt\n",
        "import pandas as pd\n",
        "import sklearn\n",
        "import math\n",
        "import warnings\n",
        "warnings.filterwarnings(\"ignore\")\n",
        "import tensorflow\n",
        "from tensorflow.keras import optimizers\n"
      ],
      "metadata": {
        "id": "lcPOdRkILVZi"
      },
      "execution_count": 4,
      "outputs": []
    },
    {
      "cell_type": "code",
      "source": [
        "!pip install --upgrade tensorflow\n",
        "\n"
      ],
      "metadata": {
        "colab": {
          "base_uri": "https://localhost:8080/",
          "height": 1000
        },
        "id": "Fm4pLKU4Pn9w",
        "outputId": "d052b81a-eec7-4afd-b6ff-e2a516aed63e"
      },
      "execution_count": null,
      "outputs": [
        {
          "output_type": "stream",
          "name": "stdout",
          "text": [
            "Looking in indexes: https://pypi.org/simple, https://us-python.pkg.dev/colab-wheels/public/simple/\n",
            "Requirement already satisfied: tensorflow in /usr/local/lib/python3.7/dist-packages (2.0.0)\n",
            "Collecting tensorflow\n",
            "  Downloading tensorflow-2.9.1-cp37-cp37m-manylinux_2_17_x86_64.manylinux2014_x86_64.whl (511.7 MB)\n",
            "\u001b[K     |████████████████████████████████| 511.7 MB 5.1 kB/s \n",
            "\u001b[?25hRequirement already satisfied: opt-einsum>=2.3.2 in /usr/local/lib/python3.7/dist-packages (from tensorflow) (3.3.0)\n",
            "Requirement already satisfied: libclang>=13.0.0 in /usr/local/lib/python3.7/dist-packages (from tensorflow) (14.0.1)\n",
            "Requirement already satisfied: numpy>=1.20 in /usr/local/lib/python3.7/dist-packages (from tensorflow) (1.21.6)\n",
            "Requirement already satisfied: google-pasta>=0.1.1 in /usr/local/lib/python3.7/dist-packages (from tensorflow) (0.2.0)\n",
            "Collecting tensorflow-estimator<2.10.0,>=2.9.0rc0\n",
            "  Downloading tensorflow_estimator-2.9.0-py2.py3-none-any.whl (438 kB)\n",
            "\u001b[K     |████████████████████████████████| 438 kB 58.4 MB/s \n",
            "\u001b[?25hCollecting flatbuffers<2,>=1.12\n",
            "  Downloading flatbuffers-1.12-py2.py3-none-any.whl (15 kB)\n",
            "Requirement already satisfied: h5py>=2.9.0 in /usr/local/lib/python3.7/dist-packages (from tensorflow) (3.1.0)\n",
            "Requirement already satisfied: protobuf<3.20,>=3.9.2 in /usr/local/lib/python3.7/dist-packages (from tensorflow) (3.17.3)\n",
            "Requirement already satisfied: wrapt>=1.11.0 in /usr/local/lib/python3.7/dist-packages (from tensorflow) (1.14.1)\n",
            "Requirement already satisfied: termcolor>=1.1.0 in /usr/local/lib/python3.7/dist-packages (from tensorflow) (1.1.0)\n",
            "Requirement already satisfied: tensorflow-io-gcs-filesystem>=0.23.1 in /usr/local/lib/python3.7/dist-packages (from tensorflow) (0.26.0)\n",
            "Collecting tensorboard<2.10,>=2.9\n",
            "  Downloading tensorboard-2.9.1-py3-none-any.whl (5.8 MB)\n",
            "\u001b[K     |████████████████████████████████| 5.8 MB 40.8 MB/s \n",
            "\u001b[?25hRequirement already satisfied: astunparse>=1.6.0 in /usr/local/lib/python3.7/dist-packages (from tensorflow) (1.6.3)\n",
            "Requirement already satisfied: grpcio<2.0,>=1.24.3 in /usr/local/lib/python3.7/dist-packages (from tensorflow) (1.46.3)\n",
            "Requirement already satisfied: keras-preprocessing>=1.1.1 in /usr/local/lib/python3.7/dist-packages (from tensorflow) (1.1.2)\n",
            "Requirement already satisfied: typing-extensions>=3.6.6 in /usr/local/lib/python3.7/dist-packages (from tensorflow) (4.2.0)\n",
            "Requirement already satisfied: packaging in /usr/local/lib/python3.7/dist-packages (from tensorflow) (21.3)\n",
            "Requirement already satisfied: six>=1.12.0 in /usr/local/lib/python3.7/dist-packages (from tensorflow) (1.15.0)\n",
            "Requirement already satisfied: gast<=0.4.0,>=0.2.1 in /usr/local/lib/python3.7/dist-packages (from tensorflow) (0.2.2)\n",
            "Collecting keras<2.10.0,>=2.9.0rc0\n",
            "  Downloading keras-2.9.0-py2.py3-none-any.whl (1.6 MB)\n",
            "\u001b[K     |████████████████████████████████| 1.6 MB 44.0 MB/s \n",
            "\u001b[?25hRequirement already satisfied: setuptools in /usr/local/lib/python3.7/dist-packages (from tensorflow) (57.4.0)\n",
            "Requirement already satisfied: absl-py>=1.0.0 in /usr/local/lib/python3.7/dist-packages (from tensorflow) (1.0.0)\n",
            "Requirement already satisfied: wheel<1.0,>=0.23.0 in /usr/local/lib/python3.7/dist-packages (from astunparse>=1.6.0->tensorflow) (0.37.1)\n",
            "Requirement already satisfied: cached-property in /usr/local/lib/python3.7/dist-packages (from h5py>=2.9.0->tensorflow) (1.5.2)\n",
            "Requirement already satisfied: requests<3,>=2.21.0 in /usr/local/lib/python3.7/dist-packages (from tensorboard<2.10,>=2.9->tensorflow) (2.23.0)\n",
            "Requirement already satisfied: werkzeug>=1.0.1 in /usr/local/lib/python3.7/dist-packages (from tensorboard<2.10,>=2.9->tensorflow) (1.0.1)\n",
            "Requirement already satisfied: tensorboard-plugin-wit>=1.6.0 in /usr/local/lib/python3.7/dist-packages (from tensorboard<2.10,>=2.9->tensorflow) (1.8.1)\n",
            "Requirement already satisfied: google-auth<3,>=1.6.3 in /usr/local/lib/python3.7/dist-packages (from tensorboard<2.10,>=2.9->tensorflow) (1.35.0)\n",
            "Requirement already satisfied: markdown>=2.6.8 in /usr/local/lib/python3.7/dist-packages (from tensorboard<2.10,>=2.9->tensorflow) (3.3.7)\n",
            "Requirement already satisfied: google-auth-oauthlib<0.5,>=0.4.1 in /usr/local/lib/python3.7/dist-packages (from tensorboard<2.10,>=2.9->tensorflow) (0.4.6)\n",
            "Requirement already satisfied: tensorboard-data-server<0.7.0,>=0.6.0 in /usr/local/lib/python3.7/dist-packages (from tensorboard<2.10,>=2.9->tensorflow) (0.6.1)\n",
            "Requirement already satisfied: cachetools<5.0,>=2.0.0 in /usr/local/lib/python3.7/dist-packages (from google-auth<3,>=1.6.3->tensorboard<2.10,>=2.9->tensorflow) (4.2.4)\n",
            "Requirement already satisfied: pyasn1-modules>=0.2.1 in /usr/local/lib/python3.7/dist-packages (from google-auth<3,>=1.6.3->tensorboard<2.10,>=2.9->tensorflow) (0.2.8)\n",
            "Requirement already satisfied: rsa<5,>=3.1.4 in /usr/local/lib/python3.7/dist-packages (from google-auth<3,>=1.6.3->tensorboard<2.10,>=2.9->tensorflow) (4.8)\n",
            "Requirement already satisfied: requests-oauthlib>=0.7.0 in /usr/local/lib/python3.7/dist-packages (from google-auth-oauthlib<0.5,>=0.4.1->tensorboard<2.10,>=2.9->tensorflow) (1.3.1)\n",
            "Requirement already satisfied: importlib-metadata>=4.4 in /usr/local/lib/python3.7/dist-packages (from markdown>=2.6.8->tensorboard<2.10,>=2.9->tensorflow) (4.11.4)\n",
            "Requirement already satisfied: zipp>=0.5 in /usr/local/lib/python3.7/dist-packages (from importlib-metadata>=4.4->markdown>=2.6.8->tensorboard<2.10,>=2.9->tensorflow) (3.8.0)\n",
            "Requirement already satisfied: pyasn1<0.5.0,>=0.4.6 in /usr/local/lib/python3.7/dist-packages (from pyasn1-modules>=0.2.1->google-auth<3,>=1.6.3->tensorboard<2.10,>=2.9->tensorflow) (0.4.8)\n",
            "Requirement already satisfied: idna<3,>=2.5 in /usr/local/lib/python3.7/dist-packages (from requests<3,>=2.21.0->tensorboard<2.10,>=2.9->tensorflow) (2.10)\n",
            "Requirement already satisfied: urllib3!=1.25.0,!=1.25.1,<1.26,>=1.21.1 in /usr/local/lib/python3.7/dist-packages (from requests<3,>=2.21.0->tensorboard<2.10,>=2.9->tensorflow) (1.24.3)\n",
            "Requirement already satisfied: certifi>=2017.4.17 in /usr/local/lib/python3.7/dist-packages (from requests<3,>=2.21.0->tensorboard<2.10,>=2.9->tensorflow) (2022.5.18.1)\n",
            "Requirement already satisfied: chardet<4,>=3.0.2 in /usr/local/lib/python3.7/dist-packages (from requests<3,>=2.21.0->tensorboard<2.10,>=2.9->tensorflow) (3.0.4)\n",
            "Requirement already satisfied: oauthlib>=3.0.0 in /usr/local/lib/python3.7/dist-packages (from requests-oauthlib>=0.7.0->google-auth-oauthlib<0.5,>=0.4.1->tensorboard<2.10,>=2.9->tensorflow) (3.2.0)\n",
            "Requirement already satisfied: pyparsing!=3.0.5,>=2.0.2 in /usr/local/lib/python3.7/dist-packages (from packaging->tensorflow) (3.0.9)\n",
            "Installing collected packages: tensorflow-estimator, tensorboard, keras, flatbuffers, tensorflow\n",
            "  Attempting uninstall: tensorflow-estimator\n",
            "    Found existing installation: tensorflow-estimator 2.0.1\n",
            "    Uninstalling tensorflow-estimator-2.0.1:\n",
            "      Successfully uninstalled tensorflow-estimator-2.0.1\n",
            "  Attempting uninstall: tensorboard\n",
            "    Found existing installation: tensorboard 2.0.2\n",
            "    Uninstalling tensorboard-2.0.2:\n",
            "      Successfully uninstalled tensorboard-2.0.2\n",
            "  Attempting uninstall: keras\n",
            "    Found existing installation: keras 2.8.0\n",
            "    Uninstalling keras-2.8.0:\n",
            "      Successfully uninstalled keras-2.8.0\n",
            "  Attempting uninstall: flatbuffers\n",
            "    Found existing installation: flatbuffers 2.0\n",
            "    Uninstalling flatbuffers-2.0:\n",
            "      Successfully uninstalled flatbuffers-2.0\n",
            "  Attempting uninstall: tensorflow\n",
            "    Found existing installation: tensorflow 2.0.0\n",
            "    Uninstalling tensorflow-2.0.0:\n",
            "      Successfully uninstalled tensorflow-2.0.0\n",
            "Successfully installed flatbuffers-1.12 keras-2.9.0 tensorboard-2.9.1 tensorflow-2.9.1 tensorflow-estimator-2.9.0\n"
          ]
        },
        {
          "output_type": "display_data",
          "data": {
            "application/vnd.colab-display-data+json": {
              "pip_warning": {
                "packages": [
                  "tensorboard",
                  "tensorflow",
                  "tensorflow_estimator"
                ]
              }
            }
          },
          "metadata": {}
        }
      ]
    },
    {
      "cell_type": "code",
      "source": [
        "import keras\n",
        "from keras.applications.inception_v3 import InceptionV3\n",
        "from keras.models import Model,load_model\n",
        "conv_base =  InceptionV3(weights='imagenet',include_top=False,\n",
        "                         input_shape=(300, 300, 3))\n",
        "output = conv_base.layers[-1].output\n",
        "output = keras.layers.Flatten()(output)\n",
        "model_tl = Model(conv_base.input, output)\n",
        "model_tl.trainable = False\n",
        "for layer in model_tl.layers:\n",
        "    layer.trainable = False\n",
        "layers = [(layer, layer.name, layer.trainable) for layer in  \n",
        "               model_tl.layers]\n",
        "model_layers=pd.DataFrame(layers, columns=['Layer Type', 'Layer  Name', 'Layer Trainable'])\n",
        "print(model_layers) "
      ],
      "metadata": {
        "colab": {
          "base_uri": "https://localhost:8080/"
        },
        "id": "Cq5HJfPALwhp",
        "outputId": "c7271bbc-468b-42a9-c305-a9ad2da80399"
      },
      "execution_count": 5,
      "outputs": [
        {
          "output_type": "stream",
          "name": "stdout",
          "text": [
            "                                            Layer Type          Layer  Name  \\\n",
            "0    <keras.engine.input_layer.InputLayer object at...              input_1   \n",
            "1    <keras.layers.convolutional.conv2d.Conv2D obje...               conv2d   \n",
            "2    <keras.layers.normalization.batch_normalizatio...  batch_normalization   \n",
            "3    <keras.layers.core.activation.Activation objec...           activation   \n",
            "4    <keras.layers.convolutional.conv2d.Conv2D obje...             conv2d_1   \n",
            "..                                                 ...                  ...   \n",
            "307  <keras.layers.merging.concatenate.Concatenate ...             mixed9_1   \n",
            "308  <keras.layers.merging.concatenate.Concatenate ...        concatenate_1   \n",
            "309  <keras.layers.core.activation.Activation objec...        activation_93   \n",
            "310  <keras.layers.merging.concatenate.Concatenate ...              mixed10   \n",
            "311  <keras.layers.reshaping.flatten.Flatten object...              flatten   \n",
            "\n",
            "     Layer Trainable  \n",
            "0              False  \n",
            "1              False  \n",
            "2              False  \n",
            "3              False  \n",
            "4              False  \n",
            "..               ...  \n",
            "307            False  \n",
            "308            False  \n",
            "309            False  \n",
            "310            False  \n",
            "311            False  \n",
            "\n",
            "[312 rows x 3 columns]\n"
          ]
        }
      ]
    },
    {
      "cell_type": "code",
      "source": [
        "from keras.models import Sequential\n",
        "from keras.layers import Dense, Dropout, Conv2D, MaxPool2D, Flatten\n",
        "from keras.preprocessing.image import ImageDataGenerator\n",
        "from keras import optimizers\n",
        "test_size=12\n",
        "batch_size=4\n",
        "epochs=25\n",
        "train_path='/content/drive/MyDrive/KULIAH/PCVK/final_project/train'\n",
        "test_path='/content/drive/MyDrive/KULIAH/PCVK/final_project/test'\n",
        "target_size=(300,300) #resize all images to 300x300\n",
        "train_datagen = ImageDataGenerator(rescale=1./255, zoom_range=0.3,  \n",
        "                                   rotation_range=50,\n",
        "                                   width_shift_range=0.2, \n",
        "                                   height_shift_range=0.2, \n",
        "                                   shear_range=0.2,\n",
        "                                   horizontal_flip=True,\n",
        "                                   brightness_range = [0.8, 1.2],\n",
        "                                   fill_mode='nearest',        \n",
        "                                   validation_split=0.2)\n",
        "test_datagen = ImageDataGenerator(rescale=1./255)\n",
        "# The list of classes will be automatically inferred from the subdirectory names/structure under train_dir\n",
        "train_generator = train_datagen.flow_from_directory(\n",
        "                  train_path,\n",
        "                  target_size=target_size,#  \n",
        "                  batch_size=batch_size,\n",
        "                  class_mode='categorical',\n",
        "                  subset='training')\n",
        "validation_generator = train_datagen.flow_from_directory(\n",
        "                       train_path,\n",
        "                       target_size=target_size,\n",
        "                       batch_size=batch_size,\n",
        "                       class_mode='categorical',\n",
        "                       subset='validation')"
      ],
      "metadata": {
        "colab": {
          "base_uri": "https://localhost:8080/"
        },
        "id": "Y3UrSxaSL6g1",
        "outputId": "0592eea7-0472-4d90-fe91-1adce84c1578"
      },
      "execution_count": 10,
      "outputs": [
        {
          "output_type": "stream",
          "name": "stdout",
          "text": [
            "Found 30 images belonging to 3 classes.\n",
            "Found 6 images belonging to 3 classes.\n"
          ]
        }
      ]
    },
    {
      "cell_type": "code",
      "source": [
        "from keras.models import Sequential\n",
        "from keras.layers import Dense, Dropout, Conv2D, MaxPool2D, Flatten\n",
        "from keras import optimizers\n",
        "# building a linear stack of layers with the sequential model\n",
        "model =Sequential()\n",
        "model.add(model_tl)\n",
        "# hidden layer\n",
        "model.add(Dense(128, activation='relu'))\n",
        "model.add(Dropout(0.2))\n",
        "# output layer\n",
        "model.add(Dense(3, activation='softmax'))\n",
        "# compiling the sequential model\n",
        "model.compile(loss='categorical_crossentropy', optimizer=optimizers.RMSprop(lr=1e-4), metrics=['acc'])\n",
        "print(model.summary())"
      ],
      "metadata": {
        "colab": {
          "base_uri": "https://localhost:8080/"
        },
        "id": "QT2OrUa-NLjx",
        "outputId": "fa142387-aa10-4c7c-9f2a-562b8102fd18"
      },
      "execution_count": 14,
      "outputs": [
        {
          "output_type": "stream",
          "name": "stdout",
          "text": [
            "Model: \"sequential_2\"\n",
            "_________________________________________________________________\n",
            " Layer (type)                Output Shape              Param #   \n",
            "=================================================================\n",
            " model (Functional)          (None, 131072)            21802784  \n",
            "                                                                 \n",
            " dense_4 (Dense)             (None, 128)               16777344  \n",
            "                                                                 \n",
            " dropout_2 (Dropout)         (None, 128)               0         \n",
            "                                                                 \n",
            " dense_5 (Dense)             (None, 3)                 387       \n",
            "                                                                 \n",
            "=================================================================\n",
            "Total params: 38,580,515\n",
            "Trainable params: 16,777,731\n",
            "Non-trainable params: 21,802,784\n",
            "_________________________________________________________________\n",
            "None\n"
          ]
        }
      ]
    },
    {
      "cell_type": "code",
      "source": [
        "from keras.callbacks import *\n",
        "filepath=\"/content/drive/MyDrive/KULIAH/PCVK/final_project/MyCNN/epochs:{epoch:03d}-val_acc:{val_acc:.3f}.hdf5\"\n",
        "checkpoint = ModelCheckpoint(filepath, \n",
        "                             monitor='val_acc', \n",
        "                             verbose=1,\n",
        "                             save_best_only=False,\n",
        "                             save_freq='epoch',     \n",
        "                             mode='max')\n",
        "callbacks_list = [checkpoint]"
      ],
      "metadata": {
        "id": "HuSnnpmVSo1S"
      },
      "execution_count": 15,
      "outputs": []
    },
    {
      "cell_type": "code",
      "source": [
        "history = model.fit(\n",
        "          train_generator,\n",
        "          steps_per_epoch=train_generator.samples//batch_size,    \n",
        "          validation_data=validation_generator,\n",
        "          validation_steps=validation_generator.samples//batch_size,\n",
        "          epochs=epochs,\n",
        "          verbose=1,\n",
        "          shuffle=True,\n",
        "          callbacks=callbacks_list)"
      ],
      "metadata": {
        "colab": {
          "base_uri": "https://localhost:8080/"
        },
        "id": "d5rqMLZeTsO2",
        "outputId": "69f51bdf-eb59-4118-b922-7634eb43fb5e"
      },
      "execution_count": 16,
      "outputs": [
        {
          "output_type": "stream",
          "name": "stdout",
          "text": [
            "Epoch 1/25\n",
            "WARNING:tensorflow:AutoGraph could not transform <function Model.make_train_function.<locals>.train_function at 0x7fc0cc797680> and will run it as-is.\n",
            "Please report this to the TensorFlow team. When filing the bug, set the verbosity to 10 (on Linux, `export AUTOGRAPH_VERBOSITY=10`) and attach the full output.\n",
            "Cause: 'arguments' object has no attribute 'posonlyargs'\n",
            "To silence this warning, decorate the function with @tf.autograph.experimental.do_not_convert\n",
            "WARNING: AutoGraph could not transform <function Model.make_train_function.<locals>.train_function at 0x7fc0cc797680> and will run it as-is.\n",
            "Please report this to the TensorFlow team. When filing the bug, set the verbosity to 10 (on Linux, `export AUTOGRAPH_VERBOSITY=10`) and attach the full output.\n",
            "Cause: 'arguments' object has no attribute 'posonlyargs'\n",
            "To silence this warning, decorate the function with @tf.autograph.experimental.do_not_convert\n",
            "7/7 [==============================] - ETA: 0s - loss: 12.2977 - acc: 0.4615WARNING:tensorflow:AutoGraph could not transform <function Model.make_test_function.<locals>.test_function at 0x7fc0c90304d0> and will run it as-is.\n",
            "Please report this to the TensorFlow team. When filing the bug, set the verbosity to 10 (on Linux, `export AUTOGRAPH_VERBOSITY=10`) and attach the full output.\n",
            "Cause: 'arguments' object has no attribute 'posonlyargs'\n",
            "To silence this warning, decorate the function with @tf.autograph.experimental.do_not_convert\n",
            "WARNING: AutoGraph could not transform <function Model.make_test_function.<locals>.test_function at 0x7fc0c90304d0> and will run it as-is.\n",
            "Please report this to the TensorFlow team. When filing the bug, set the verbosity to 10 (on Linux, `export AUTOGRAPH_VERBOSITY=10`) and attach the full output.\n",
            "Cause: 'arguments' object has no attribute 'posonlyargs'\n",
            "To silence this warning, decorate the function with @tf.autograph.experimental.do_not_convert\n",
            "\n",
            "Epoch 1: saving model to /content/drive/MyDrive/KULIAH/PCVK/final_project/MyCNN/epochs:001-val_acc:0.250.hdf5\n",
            "7/7 [==============================] - 22s 3s/step - loss: 12.2977 - acc: 0.4615 - val_loss: 2.6841 - val_acc: 0.2500\n",
            "Epoch 2/25\n",
            "7/7 [==============================] - ETA: 0s - loss: 1.7518 - acc: 0.6538\n",
            "Epoch 2: saving model to /content/drive/MyDrive/KULIAH/PCVK/final_project/MyCNN/epochs:002-val_acc:0.500.hdf5\n",
            "7/7 [==============================] - 12s 2s/step - loss: 1.7518 - acc: 0.6538 - val_loss: 3.1832 - val_acc: 0.5000\n",
            "Epoch 3/25\n",
            "7/7 [==============================] - ETA: 0s - loss: 2.0801 - acc: 0.8077\n",
            "Epoch 3: saving model to /content/drive/MyDrive/KULIAH/PCVK/final_project/MyCNN/epochs:003-val_acc:0.750.hdf5\n",
            "7/7 [==============================] - 12s 2s/step - loss: 2.0801 - acc: 0.8077 - val_loss: 0.5956 - val_acc: 0.7500\n",
            "Epoch 4/25\n",
            "7/7 [==============================] - ETA: 0s - loss: 0.9015 - acc: 0.7692\n",
            "Epoch 4: saving model to /content/drive/MyDrive/KULIAH/PCVK/final_project/MyCNN/epochs:004-val_acc:1.000.hdf5\n",
            "7/7 [==============================] - 11s 2s/step - loss: 0.9015 - acc: 0.7692 - val_loss: 0.0074 - val_acc: 1.0000\n",
            "Epoch 5/25\n",
            "7/7 [==============================] - ETA: 0s - loss: 0.9940 - acc: 0.7692\n",
            "Epoch 5: saving model to /content/drive/MyDrive/KULIAH/PCVK/final_project/MyCNN/epochs:005-val_acc:0.500.hdf5\n",
            "7/7 [==============================] - 11s 2s/step - loss: 0.9940 - acc: 0.7692 - val_loss: 5.3298 - val_acc: 0.5000\n",
            "Epoch 6/25\n",
            "7/7 [==============================] - ETA: 0s - loss: 2.0755 - acc: 0.8077\n",
            "Epoch 6: saving model to /content/drive/MyDrive/KULIAH/PCVK/final_project/MyCNN/epochs:006-val_acc:0.500.hdf5\n",
            "7/7 [==============================] - 12s 2s/step - loss: 2.0755 - acc: 0.8077 - val_loss: 3.7416 - val_acc: 0.5000\n",
            "Epoch 7/25\n",
            "7/7 [==============================] - ETA: 0s - loss: 0.9135 - acc: 0.8077\n",
            "Epoch 7: saving model to /content/drive/MyDrive/KULIAH/PCVK/final_project/MyCNN/epochs:007-val_acc:1.000.hdf5\n",
            "7/7 [==============================] - 11s 2s/step - loss: 0.9135 - acc: 0.8077 - val_loss: 0.0197 - val_acc: 1.0000\n",
            "Epoch 8/25\n",
            "7/7 [==============================] - ETA: 0s - loss: 0.4262 - acc: 0.9615\n",
            "Epoch 8: saving model to /content/drive/MyDrive/KULIAH/PCVK/final_project/MyCNN/epochs:008-val_acc:0.750.hdf5\n",
            "7/7 [==============================] - 11s 2s/step - loss: 0.4262 - acc: 0.9615 - val_loss: 0.4454 - val_acc: 0.7500\n",
            "Epoch 9/25\n",
            "7/7 [==============================] - ETA: 0s - loss: 0.6148 - acc: 0.8846\n",
            "Epoch 9: saving model to /content/drive/MyDrive/KULIAH/PCVK/final_project/MyCNN/epochs:009-val_acc:0.750.hdf5\n",
            "7/7 [==============================] - 11s 2s/step - loss: 0.6148 - acc: 0.8846 - val_loss: 0.3560 - val_acc: 0.7500\n",
            "Epoch 10/25\n",
            "7/7 [==============================] - ETA: 0s - loss: 1.0361 - acc: 0.8077\n",
            "Epoch 10: saving model to /content/drive/MyDrive/KULIAH/PCVK/final_project/MyCNN/epochs:010-val_acc:0.500.hdf5\n",
            "7/7 [==============================] - 11s 2s/step - loss: 1.0361 - acc: 0.8077 - val_loss: 1.0427 - val_acc: 0.5000\n",
            "Epoch 11/25\n",
            "7/7 [==============================] - ETA: 0s - loss: 0.8093 - acc: 0.8214\n",
            "Epoch 11: saving model to /content/drive/MyDrive/KULIAH/PCVK/final_project/MyCNN/epochs:011-val_acc:0.750.hdf5\n",
            "7/7 [==============================] - 11s 2s/step - loss: 0.8093 - acc: 0.8214 - val_loss: 1.3715 - val_acc: 0.7500\n",
            "Epoch 12/25\n",
            "7/7 [==============================] - ETA: 0s - loss: 0.5734 - acc: 0.8077\n",
            "Epoch 12: saving model to /content/drive/MyDrive/KULIAH/PCVK/final_project/MyCNN/epochs:012-val_acc:1.000.hdf5\n",
            "7/7 [==============================] - 11s 2s/step - loss: 0.5734 - acc: 0.8077 - val_loss: 0.1164 - val_acc: 1.0000\n",
            "Epoch 13/25\n",
            "7/7 [==============================] - ETA: 0s - loss: 0.0758 - acc: 1.0000\n",
            "Epoch 13: saving model to /content/drive/MyDrive/KULIAH/PCVK/final_project/MyCNN/epochs:013-val_acc:0.750.hdf5\n",
            "7/7 [==============================] - 11s 2s/step - loss: 0.0758 - acc: 1.0000 - val_loss: 1.0106 - val_acc: 0.7500\n",
            "Epoch 14/25\n",
            "7/7 [==============================] - ETA: 0s - loss: 0.0093 - acc: 1.0000\n",
            "Epoch 14: saving model to /content/drive/MyDrive/KULIAH/PCVK/final_project/MyCNN/epochs:014-val_acc:1.000.hdf5\n",
            "7/7 [==============================] - 11s 2s/step - loss: 0.0093 - acc: 1.0000 - val_loss: 6.8156e-04 - val_acc: 1.0000\n",
            "Epoch 15/25\n",
            "7/7 [==============================] - ETA: 0s - loss: 0.0037 - acc: 1.0000\n",
            "Epoch 15: saving model to /content/drive/MyDrive/KULIAH/PCVK/final_project/MyCNN/epochs:015-val_acc:1.000.hdf5\n",
            "7/7 [==============================] - 12s 2s/step - loss: 0.0037 - acc: 1.0000 - val_loss: 0.0119 - val_acc: 1.0000\n",
            "Epoch 16/25\n",
            "7/7 [==============================] - ETA: 0s - loss: 0.7627 - acc: 0.8462\n",
            "Epoch 16: saving model to /content/drive/MyDrive/KULIAH/PCVK/final_project/MyCNN/epochs:016-val_acc:1.000.hdf5\n",
            "7/7 [==============================] - 11s 2s/step - loss: 0.7627 - acc: 0.8462 - val_loss: 0.0796 - val_acc: 1.0000\n",
            "Epoch 17/25\n",
            "7/7 [==============================] - ETA: 0s - loss: 0.0915 - acc: 0.9615\n",
            "Epoch 17: saving model to /content/drive/MyDrive/KULIAH/PCVK/final_project/MyCNN/epochs:017-val_acc:0.750.hdf5\n",
            "7/7 [==============================] - 11s 1s/step - loss: 0.0915 - acc: 0.9615 - val_loss: 1.7886 - val_acc: 0.7500\n",
            "Epoch 18/25\n",
            "7/7 [==============================] - ETA: 0s - loss: 1.0711 - acc: 0.8077\n",
            "Epoch 18: saving model to /content/drive/MyDrive/KULIAH/PCVK/final_project/MyCNN/epochs:018-val_acc:1.000.hdf5\n",
            "7/7 [==============================] - 11s 2s/step - loss: 1.0711 - acc: 0.8077 - val_loss: 0.0059 - val_acc: 1.0000\n",
            "Epoch 19/25\n",
            "7/7 [==============================] - ETA: 0s - loss: 0.1813 - acc: 0.9615\n",
            "Epoch 19: saving model to /content/drive/MyDrive/KULIAH/PCVK/final_project/MyCNN/epochs:019-val_acc:0.750.hdf5\n",
            "7/7 [==============================] - 11s 2s/step - loss: 0.1813 - acc: 0.9615 - val_loss: 2.3135 - val_acc: 0.7500\n",
            "Epoch 20/25\n",
            "7/7 [==============================] - ETA: 0s - loss: 0.0500 - acc: 0.9615\n",
            "Epoch 20: saving model to /content/drive/MyDrive/KULIAH/PCVK/final_project/MyCNN/epochs:020-val_acc:0.750.hdf5\n",
            "7/7 [==============================] - 11s 2s/step - loss: 0.0500 - acc: 0.9615 - val_loss: 1.9104 - val_acc: 0.7500\n",
            "Epoch 21/25\n",
            "7/7 [==============================] - ETA: 0s - loss: 0.1381 - acc: 0.8846\n",
            "Epoch 21: saving model to /content/drive/MyDrive/KULIAH/PCVK/final_project/MyCNN/epochs:021-val_acc:0.500.hdf5\n",
            "7/7 [==============================] - 11s 2s/step - loss: 0.1381 - acc: 0.8846 - val_loss: 1.2071 - val_acc: 0.5000\n",
            "Epoch 22/25\n",
            "7/7 [==============================] - ETA: 0s - loss: 0.0624 - acc: 0.9615\n",
            "Epoch 22: saving model to /content/drive/MyDrive/KULIAH/PCVK/final_project/MyCNN/epochs:022-val_acc:1.000.hdf5\n",
            "7/7 [==============================] - 11s 2s/step - loss: 0.0624 - acc: 0.9615 - val_loss: 5.1698e-04 - val_acc: 1.0000\n",
            "Epoch 23/25\n",
            "7/7 [==============================] - ETA: 0s - loss: 0.4309 - acc: 0.9231\n",
            "Epoch 23: saving model to /content/drive/MyDrive/KULIAH/PCVK/final_project/MyCNN/epochs:023-val_acc:0.750.hdf5\n",
            "7/7 [==============================] - 12s 2s/step - loss: 0.4309 - acc: 0.9231 - val_loss: 1.5695 - val_acc: 0.7500\n",
            "Epoch 24/25\n",
            "7/7 [==============================] - ETA: 0s - loss: 0.4552 - acc: 0.9643\n",
            "Epoch 24: saving model to /content/drive/MyDrive/KULIAH/PCVK/final_project/MyCNN/epochs:024-val_acc:1.000.hdf5\n",
            "7/7 [==============================] - 11s 2s/step - loss: 0.4552 - acc: 0.9643 - val_loss: 4.5536e-05 - val_acc: 1.0000\n",
            "Epoch 25/25\n",
            "7/7 [==============================] - ETA: 0s - loss: 0.6047 - acc: 0.8846\n",
            "Epoch 25: saving model to /content/drive/MyDrive/KULIAH/PCVK/final_project/MyCNN/epochs:025-val_acc:1.000.hdf5\n",
            "7/7 [==============================] - 11s 2s/step - loss: 0.6047 - acc: 0.8846 - val_loss: 0.0058 - val_acc: 1.0000\n"
          ]
        }
      ]
    },
    {
      "cell_type": "code",
      "source": [
        "# Model evaluation\n",
        "scores_train = model.evaluate(train_generator,verbose=1)\n",
        "scores_validation = model.evaluate(validation_generator,verbose=1)\n",
        "print(\"Train Accuracy: %.2f%%\" % (scores_train[1]*100))\n",
        "print(\"Validation Accuracy: %.2f%%\" % (scores_validation[1]*100))\n",
        "#For plotting Accuracy and Loss\n",
        "def LearningCurve(history):\n",
        "# summarize history for accuracy\n",
        "  plt.plot(history.history['acc'])\n",
        "  plt.plot(history.history['val_acc'])\n",
        "  plt.title('model accuracy')\n",
        "  plt.ylabel('accuracy')\n",
        "  plt.xlabel('epoch')\n",
        "  plt.legend(['train', 'validation'], loc='upper left')\n",
        "  plt.show()\n",
        "# summarize history for loss\n",
        "  plt.plot(history.history['loss'])\n",
        "  plt.plot(history.history['val_loss'])\n",
        "  plt.title('model loss')\n",
        "  plt.ylabel('loss')\n",
        "  plt.xlabel('epoch')\n",
        "  plt.legend(['train', 'validation'], loc='upper left')\n",
        "  plt.show()\n",
        "  LearningCurve(history)\n",
        "#Save the trained model to a file \n",
        "model_weight_file='/content/drive/MyDrive/KULIAH/PCVK/final_project/MyCNN/leaf_img.h5'\n",
        "model.save(model_weight_file)"
      ],
      "metadata": {
        "colab": {
          "base_uri": "https://localhost:8080/"
        },
        "id": "ZWZDPkw2TxCH",
        "outputId": "46fada9e-7979-45af-fb5b-13b1545dc399"
      },
      "execution_count": 18,
      "outputs": [
        {
          "output_type": "stream",
          "name": "stdout",
          "text": [
            "8/8 [==============================] - 11s 1s/step - loss: 0.0500 - acc: 0.9667\n",
            "2/2 [==============================] - 2s 487ms/step - loss: 0.3349 - acc: 0.8333\n",
            "Train Accuracy: 96.67%\n",
            "Validation Accuracy: 83.33%\n"
          ]
        }
      ]
    },
    {
      "cell_type": "code",
      "source": [
        "# We take the ceiling because we do not drop the remainder of the batch\n",
        "compute_steps_per_epoch = lambda x: int(math.ceil(1. * x / batch_size))\n",
        "test_steps = compute_steps_per_epoch(test_size)\n",
        "test_generator = test_datagen.flow_from_directory(\n",
        "                 test_path,\n",
        "                 target_size=target_size, \n",
        "                 batch_size=batch_size,\n",
        "                 class_mode=None,\n",
        "                 shuffle=False)\n",
        "test_generator.reset()\n",
        "#Calling the saved model for making predictions\n",
        "tl_img_aug_cnn = load_model(model_weight_file)\n",
        "pred=tl_img_aug_cnn.predict(test_generator,\n",
        "                            verbose=1,\n",
        "                            steps=test_steps)\n",
        "predicted_class_indices=np.argmax(pred,axis=1)\n",
        "labels = (test_generator.class_indices)\n",
        "labels = dict((v,k) for k,v in labels.items())\n",
        "predictions = [labels[k] for k in predicted_class_indices]\n",
        "filenames=test_generator.filenames\n",
        "results=pd.DataFrame({\"Filename\":filenames,\n",
        "                      \"Predictions\":predictions})\n",
        "#create a function for visualizing model performance\n",
        "import seaborn as sns\n",
        "def PerformanceReports(conf_matrix,class_report,labels):\n",
        "    ax= plt.subplot()\n",
        "    sns.heatmap(conf_matrix, annot=True,ax=ax)\n",
        "    #labels, title and ticks\n",
        "    ax.set_xlabel('Predicted labels')\n",
        "    ax.set_ylabel('True labels')\n",
        "    ax.set_title('Confusion Matrix')\n",
        "    ax.xaxis.set_ticklabels(labels)\n",
        "    ax.yaxis.set_ticklabels(labels)\n",
        "    plt.show()\n",
        "    ax= plt.subplot()\n",
        "    sns.heatmap(pd.DataFrame(class_report).iloc[:-1, :].T,  \n",
        "                annot=True,ax=ax)\n",
        "    ax.set_title('Classification Report')\n",
        "    plt.show()\n",
        "from sklearn.metrics import confusion_matrix,classification_report,accuracy_score\n",
        "labels=['fagus_sylvatica','eucalyptus_glaucescens','cornus_controversa']\n",
        "test_labels = [fn.split('/')[0] for fn in filenames]\n",
        "cm=confusion_matrix(test_labels,predictions)\n",
        "print(cm)\n",
        "cr=classification_report(test_labels, predictions)\n",
        "class_report=classification_report(test_labels, predictions,\n",
        "                                   target_names=labels,\n",
        "                                   output_dict=True)\n",
        "print(cr)\n",
        "PerformanceReports(cm,class_report,labels)"
      ],
      "metadata": {
        "colab": {
          "base_uri": "https://localhost:8080/",
          "height": 969
        },
        "id": "uMaF2SnDY7wZ",
        "outputId": "2bdeefe7-6990-4676-d2bf-31ba80ac4a73"
      },
      "execution_count": 19,
      "outputs": [
        {
          "output_type": "stream",
          "name": "stdout",
          "text": [
            "Found 12 images belonging to 3 classes.\n",
            "WARNING:tensorflow:AutoGraph could not transform <function Model.make_predict_function.<locals>.predict_function at 0x7fc0d24e8170> and will run it as-is.\n",
            "Please report this to the TensorFlow team. When filing the bug, set the verbosity to 10 (on Linux, `export AUTOGRAPH_VERBOSITY=10`) and attach the full output.\n",
            "Cause: 'arguments' object has no attribute 'posonlyargs'\n",
            "To silence this warning, decorate the function with @tf.autograph.experimental.do_not_convert\n",
            "WARNING: AutoGraph could not transform <function Model.make_predict_function.<locals>.predict_function at 0x7fc0d24e8170> and will run it as-is.\n",
            "Please report this to the TensorFlow team. When filing the bug, set the verbosity to 10 (on Linux, `export AUTOGRAPH_VERBOSITY=10`) and attach the full output.\n",
            "Cause: 'arguments' object has no attribute 'posonlyargs'\n",
            "To silence this warning, decorate the function with @tf.autograph.experimental.do_not_convert\n",
            "3/3 [==============================] - 5s 1s/step\n",
            "[[4 0 0]\n",
            " [0 3 1]\n",
            " [0 0 4]]\n",
            "                        precision    recall  f1-score   support\n",
            "\n",
            "    Cornus_Controversa       1.00      1.00      1.00         4\n",
            "Eucalyptus_Glaucescens       1.00      0.75      0.86         4\n",
            "       Fagus_Sylvatica       0.80      1.00      0.89         4\n",
            "\n",
            "              accuracy                           0.92        12\n",
            "             macro avg       0.93      0.92      0.92        12\n",
            "          weighted avg       0.93      0.92      0.92        12\n",
            "\n"
          ]
        },
        {
          "output_type": "display_data",
          "data": {
            "text/plain": [
              "<Figure size 432x288 with 2 Axes>"
            ],
            "image/png": "[encoded data removed]"
          },
          "metadata": {
            "needs_background": "light"
          }
        },
        {
          "output_type": "display_data",
          "data": {
            "text/plain": [
              "<Figure size 432x288 with 2 Axes>"
            ],
            "image/png": "[encoded data removed]"
          },
          "metadata": {
            "needs_background": "light"
          }
        }
      ]
    },
    {
      "cell_type": "code",
      "source": [
        "labels = (train_generator.class_indices)\n",
        "labels = dict((v,k) for k,v in labels.items())\n",
        "predictions = [labels[k] for k in predicted_class_indices]"
      ],
      "metadata": {
        "id": "OTNgGpOgbGKx"
      },
      "execution_count": 20,
      "outputs": []
    },
    {
      "cell_type": "code",
      "source": [
        "filenames=test_generator.filenames\n",
        "results=pd.DataFrame({\"Filename\":filenames,\n",
        "                      \"Predictions\":predictions})"
      ],
      "metadata": {
        "id": "oXhD03mSbMHe"
      },
      "execution_count": 21,
      "outputs": []
    }
  ]
}