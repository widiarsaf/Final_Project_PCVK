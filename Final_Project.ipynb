{
  "nbformat": 4,
  "nbformat_minor": 0,
  "metadata": {
    "colab": {
      "name": "Final Project.ipynb",
      "provenance": [],
      "collapsed_sections": [],
      "include_colab_link": true
    },
    "kernelspec": {
      "name": "python3",
      "display_name": "Python 3"
    },
    "language_info": {
      "name": "python"
    }
  },
  "cells": [
    {
      "cell_type": "markdown",
      "metadata": {
        "id": "view-in-github",
        "colab_type": "text"
      },
      "source": [
        "<a href=\"https://colab.research.google.com/github/widiarsaf/Final_project_pcvk/blob/master/Final_Project.ipynb\" target=\"_parent\"><img src=\"https://colab.research.google.com/assets/colab-badge.svg\" alt=\"Open In Colab\"/></a>"
      ]
    },
    {
      "cell_type": "code",
      "execution_count": 22,
      "metadata": {
        "id": "6UyIB8XQRmM9",
        "colab": {
          "base_uri": "https://localhost:8080/"
        },
        "outputId": "0eb337ae-e64b-4e0a-848a-0fcd4448506b"
      },
      "outputs": [
        {
          "output_type": "stream",
          "name": "stdout",
          "text": [
            "Drive already mounted at /content/drive; to attempt to forcibly remount, call drive.mount(\"/content/drive\", force_remount=True).\n"
          ]
        }
      ],
      "source": [
        "from google.colab import drive\n",
        "drive.mount('/content/drive')"
      ]
    },
    {
      "cell_type": "code",
      "source": [
        "train_path = '/content/drive/MyDrive/KULIAH/PCVK/final_project/train'\n",
        "test_path = '/content/drive/MyDrive/KULIAH/PCVK/final_project/test'\n"
      ],
      "metadata": {
        "id": "qm64SHdjLCsZ"
      },
      "execution_count": 23,
      "outputs": []
    },
    {
      "cell_type": "code",
      "source": [
        "import numpy as np\n",
        "import matplotlib.pyplot as plt\n",
        "import pandas as pd\n",
        "import sklearn\n",
        "import math\n",
        "import warnings\n",
        "warnings.filterwarnings(\"ignore\")\n",
        "import tensorflow\n",
        "from tensorflow.keras import optimizers\n"
      ],
      "metadata": {
        "id": "lcPOdRkILVZi"
      },
      "execution_count": 24,
      "outputs": []
    },
    {
      "cell_type": "code",
      "source": [
        "\n",
        "\n"
      ],
      "metadata": {
        "id": "Fm4pLKU4Pn9w"
      },
      "execution_count": 24,
      "outputs": []
    },
    {
      "cell_type": "code",
      "source": [
        "import keras\n",
        "from keras.applications.inception_v3 import InceptionV3\n",
        "from keras.models import Model,load_model\n",
        "conv_base =  InceptionV3(weights='imagenet',include_top=False,\n",
        "                         input_shape=(300, 300, 3))\n",
        "output = conv_base.layers[-1].output\n",
        "output = keras.layers.Flatten()(output)\n",
        "model_tl = Model(conv_base.input, output)\n",
        "model_tl.trainable = False\n",
        "for layer in model_tl.layers:\n",
        "    layer.trainable = False\n",
        "layers = [(layer, layer.name, layer.trainable) for layer in  \n",
        "               model_tl.layers]\n",
        "model_layers=pd.DataFrame(layers, columns=['Layer Type', 'Layer  Name', 'Layer Trainable'])\n",
        "print(model_layers) "
      ],
      "metadata": {
        "colab": {
          "base_uri": "https://localhost:8080/"
        },
        "id": "Cq5HJfPALwhp",
        "outputId": "a427b0bc-30b9-46b9-84ec-9855c033c384"
      },
      "execution_count": 25,
      "outputs": [
        {
          "output_type": "stream",
          "name": "stdout",
          "text": [
            "                                            Layer Type  \\\n",
            "0    <keras.engine.input_layer.InputLayer object at...   \n",
            "1    <keras.layers.convolutional.conv2d.Conv2D obje...   \n",
            "2    <keras.layers.normalization.batch_normalizatio...   \n",
            "3    <keras.layers.core.activation.Activation objec...   \n",
            "4    <keras.layers.convolutional.conv2d.Conv2D obje...   \n",
            "..                                                 ...   \n",
            "307  <keras.layers.merging.concatenate.Concatenate ...   \n",
            "308  <keras.layers.merging.concatenate.Concatenate ...   \n",
            "309  <keras.layers.core.activation.Activation objec...   \n",
            "310  <keras.layers.merging.concatenate.Concatenate ...   \n",
            "311  <keras.layers.reshaping.flatten.Flatten object...   \n",
            "\n",
            "                Layer  Name  Layer Trainable  \n",
            "0                   input_2            False  \n",
            "1                 conv2d_94            False  \n",
            "2    batch_normalization_94            False  \n",
            "3             activation_94            False  \n",
            "4                 conv2d_95            False  \n",
            "..                      ...              ...  \n",
            "307                mixed9_1            False  \n",
            "308           concatenate_3            False  \n",
            "309          activation_187            False  \n",
            "310                 mixed10            False  \n",
            "311               flatten_1            False  \n",
            "\n",
            "[312 rows x 3 columns]\n"
          ]
        }
      ]
    },
    {
      "cell_type": "code",
      "source": [
        "from keras.models import Sequential\n",
        "from keras.layers import Dense, Dropout, Conv2D, MaxPool2D, Flatten\n",
        "from keras.preprocessing.image import ImageDataGenerator\n",
        "from keras import optimizers\n",
        "test_size=12\n",
        "batch_size=4\n",
        "epochs=25\n",
        "train_path='/content/drive/MyDrive/KULIAH/PCVK/final_project/train'\n",
        "test_path='/content/drive/MyDrive/KULIAH/PCVK/final_project/test'\n",
        "target_size=(300,300) #resize all images to 300x300\n",
        "train_datagen = ImageDataGenerator(rescale=1./255, zoom_range=0.3,  \n",
        "                                   rotation_range=50,\n",
        "                                   width_shift_range=0.2, \n",
        "                                   height_shift_range=0.2, \n",
        "                                   shear_range=0.2,\n",
        "                                   horizontal_flip=True,\n",
        "                                   brightness_range = [0.8, 1.2],\n",
        "                                   fill_mode='nearest',        \n",
        "                                   validation_split=0.2)\n",
        "test_datagen = ImageDataGenerator(rescale=1./255)\n",
        "# The list of classes will be automatically inferred from the subdirectory names/structure under train_dir\n",
        "train_generator = train_datagen.flow_from_directory(\n",
        "                  train_path,\n",
        "                  target_size=target_size,#  \n",
        "                  batch_size=batch_size,\n",
        "                  class_mode='categorical',\n",
        "                  subset='training')\n",
        "validation_generator = train_datagen.flow_from_directory(\n",
        "                       train_path,\n",
        "                       target_size=target_size,\n",
        "                       batch_size=batch_size,\n",
        "                       class_mode='categorical',\n",
        "                       subset='validation')"
      ],
      "metadata": {
        "colab": {
          "base_uri": "https://localhost:8080/"
        },
        "id": "Y3UrSxaSL6g1",
        "outputId": "078cc59f-09fb-4902-ec1d-377576e71f22"
      },
      "execution_count": 26,
      "outputs": [
        {
          "output_type": "stream",
          "name": "stdout",
          "text": [
            "Found 30 images belonging to 3 classes.\n",
            "Found 6 images belonging to 3 classes.\n"
          ]
        }
      ]
    },
    {
      "cell_type": "code",
      "source": [
        "from keras.models import Sequential\n",
        "from keras.layers import Dense, Dropout, Conv2D, MaxPool2D, Flatten\n",
        "from keras import optimizers\n",
        "# building a linear stack of layers with the sequential model\n",
        "model =Sequential()\n",
        "model.add(model_tl)\n",
        "# hidden layer\n",
        "model.add(Dense(64, activation='relu'))\n",
        "model.add(Dropout(0.2))\n",
        "# output layer\n",
        "model.add(Dense(3, activation='softmax'))\n",
        "# compiling the sequential model\n",
        "model.compile(loss='categorical_crossentropy', optimizer=optimizers.RMSprop(lr=1e-4), metrics=['acc'])\n",
        "print(model.summary())"
      ],
      "metadata": {
        "colab": {
          "base_uri": "https://localhost:8080/"
        },
        "id": "QT2OrUa-NLjx",
        "outputId": "4ec67d5c-8c62-4405-906a-5ae46ad3b189"
      },
      "execution_count": 28,
      "outputs": [
        {
          "output_type": "stream",
          "name": "stdout",
          "text": [
            "Model: \"sequential_4\"\n",
            "_________________________________________________________________\n",
            " Layer (type)                Output Shape              Param #   \n",
            "=================================================================\n",
            " model_1 (Functional)        (None, 131072)            21802784  \n",
            "                                                                 \n",
            " dense_8 (Dense)             (None, 64)                8388672   \n",
            "                                                                 \n",
            " dropout_4 (Dropout)         (None, 64)                0         \n",
            "                                                                 \n",
            " dense_9 (Dense)             (None, 3)                 195       \n",
            "                                                                 \n",
            "=================================================================\n",
            "Total params: 30,191,651\n",
            "Trainable params: 8,388,867\n",
            "Non-trainable params: 21,802,784\n",
            "_________________________________________________________________\n",
            "None\n"
          ]
        }
      ]
    },
    {
      "cell_type": "code",
      "source": [
        "from keras.callbacks import *\n",
        "filepath=\"/content/drive/MyDrive/KULIAH/PCVK/final_project/MyCNN/epochs:{epoch:03d}-val_acc:{val_acc:.3f}.hdf5\"\n",
        "checkpoint = ModelCheckpoint(filepath, \n",
        "                             monitor='val_acc', \n",
        "                             verbose=1,\n",
        "                             save_best_only=False,\n",
        "                             save_freq='epoch',     \n",
        "                             mode='max')\n",
        "callbacks_list = [checkpoint]"
      ],
      "metadata": {
        "id": "HuSnnpmVSo1S"
      },
      "execution_count": 29,
      "outputs": []
    },
    {
      "cell_type": "code",
      "source": [
        "history = model.fit(\n",
        "          train_generator,\n",
        "          steps_per_epoch=train_generator.samples//batch_size,    \n",
        "          validation_data=validation_generator,\n",
        "          validation_steps=validation_generator.samples//batch_size,\n",
        "          epochs=epochs,\n",
        "          verbose=1,\n",
        "          shuffle=True,\n",
        "          callbacks=callbacks_list)"
      ],
      "metadata": {
        "colab": {
          "base_uri": "https://localhost:8080/"
        },
        "id": "d5rqMLZeTsO2",
        "outputId": "96b67ee3-8c39-4501-d2ed-89935019b48c"
      },
      "execution_count": 30,
      "outputs": [
        {
          "output_type": "stream",
          "name": "stdout",
          "text": [
            "Epoch 1/25\n",
            "WARNING:tensorflow:AutoGraph could not transform <function Model.make_train_function.<locals>.train_function at 0x7fc0d242e5f0> and will run it as-is.\n",
            "Please report this to the TensorFlow team. When filing the bug, set the verbosity to 10 (on Linux, `export AUTOGRAPH_VERBOSITY=10`) and attach the full output.\n",
            "Cause: 'arguments' object has no attribute 'posonlyargs'\n",
            "To silence this warning, decorate the function with @tf.autograph.experimental.do_not_convert\n",
            "WARNING: AutoGraph could not transform <function Model.make_train_function.<locals>.train_function at 0x7fc0d242e5f0> and will run it as-is.\n",
            "Please report this to the TensorFlow team. When filing the bug, set the verbosity to 10 (on Linux, `export AUTOGRAPH_VERBOSITY=10`) and attach the full output.\n",
            "Cause: 'arguments' object has no attribute 'posonlyargs'\n",
            "To silence this warning, decorate the function with @tf.autograph.experimental.do_not_convert\n",
            "7/7 [==============================] - ETA: 0s - loss: 10.5727 - acc: 0.2692WARNING:tensorflow:AutoGraph could not transform <function Model.make_test_function.<locals>.test_function at 0x7fc0c846e950> and will run it as-is.\n",
            "Please report this to the TensorFlow team. When filing the bug, set the verbosity to 10 (on Linux, `export AUTOGRAPH_VERBOSITY=10`) and attach the full output.\n",
            "Cause: 'arguments' object has no attribute 'posonlyargs'\n",
            "To silence this warning, decorate the function with @tf.autograph.experimental.do_not_convert\n",
            "WARNING: AutoGraph could not transform <function Model.make_test_function.<locals>.test_function at 0x7fc0c846e950> and will run it as-is.\n",
            "Please report this to the TensorFlow team. When filing the bug, set the verbosity to 10 (on Linux, `export AUTOGRAPH_VERBOSITY=10`) and attach the full output.\n",
            "Cause: 'arguments' object has no attribute 'posonlyargs'\n",
            "To silence this warning, decorate the function with @tf.autograph.experimental.do_not_convert\n",
            "\n",
            "Epoch 1: saving model to /content/drive/MyDrive/KULIAH/PCVK/final_project/MyCNN/epochs:001-val_acc:0.500.hdf5\n",
            "7/7 [==============================] - 17s 2s/step - loss: 10.5727 - acc: 0.2692 - val_loss: 1.3259 - val_acc: 0.5000\n",
            "Epoch 2/25\n",
            "7/7 [==============================] - ETA: 0s - loss: 3.3846 - acc: 0.5000\n",
            "Epoch 2: saving model to /content/drive/MyDrive/KULIAH/PCVK/final_project/MyCNN/epochs:002-val_acc:0.750.hdf5\n",
            "7/7 [==============================] - 11s 2s/step - loss: 3.3846 - acc: 0.5000 - val_loss: 0.9823 - val_acc: 0.7500\n",
            "Epoch 3/25\n",
            "7/7 [==============================] - ETA: 0s - loss: 0.9995 - acc: 0.8077\n",
            "Epoch 3: saving model to /content/drive/MyDrive/KULIAH/PCVK/final_project/MyCNN/epochs:003-val_acc:1.000.hdf5\n",
            "7/7 [==============================] - 10s 1s/step - loss: 0.9995 - acc: 0.8077 - val_loss: 0.2707 - val_acc: 1.0000\n",
            "Epoch 4/25\n",
            "7/7 [==============================] - ETA: 0s - loss: 0.6332 - acc: 0.8077\n",
            "Epoch 4: saving model to /content/drive/MyDrive/KULIAH/PCVK/final_project/MyCNN/epochs:004-val_acc:0.750.hdf5\n",
            "7/7 [==============================] - 12s 2s/step - loss: 0.6332 - acc: 0.8077 - val_loss: 0.3699 - val_acc: 0.7500\n",
            "Epoch 5/25\n",
            "7/7 [==============================] - ETA: 0s - loss: 0.1747 - acc: 0.9231\n",
            "Epoch 5: saving model to /content/drive/MyDrive/KULIAH/PCVK/final_project/MyCNN/epochs:005-val_acc:0.750.hdf5\n",
            "7/7 [==============================] - 10s 1s/step - loss: 0.1747 - acc: 0.9231 - val_loss: 1.7019 - val_acc: 0.7500\n",
            "Epoch 6/25\n",
            "7/7 [==============================] - ETA: 0s - loss: 0.6200 - acc: 0.8462\n",
            "Epoch 6: saving model to /content/drive/MyDrive/KULIAH/PCVK/final_project/MyCNN/epochs:006-val_acc:0.750.hdf5\n",
            "7/7 [==============================] - 10s 1s/step - loss: 0.6200 - acc: 0.8462 - val_loss: 0.9859 - val_acc: 0.7500\n",
            "Epoch 7/25\n",
            "7/7 [==============================] - ETA: 0s - loss: 1.5583 - acc: 0.6538\n",
            "Epoch 7: saving model to /content/drive/MyDrive/KULIAH/PCVK/final_project/MyCNN/epochs:007-val_acc:0.750.hdf5\n",
            "7/7 [==============================] - 10s 1s/step - loss: 1.5583 - acc: 0.6538 - val_loss: 0.5682 - val_acc: 0.7500\n",
            "Epoch 8/25\n",
            "7/7 [==============================] - ETA: 0s - loss: 0.9487 - acc: 0.7308\n",
            "Epoch 8: saving model to /content/drive/MyDrive/KULIAH/PCVK/final_project/MyCNN/epochs:008-val_acc:0.500.hdf5\n",
            "7/7 [==============================] - 11s 2s/step - loss: 0.9487 - acc: 0.7308 - val_loss: 2.3513 - val_acc: 0.5000\n",
            "Epoch 9/25\n",
            "7/7 [==============================] - ETA: 0s - loss: 0.4597 - acc: 0.7692\n",
            "Epoch 9: saving model to /content/drive/MyDrive/KULIAH/PCVK/final_project/MyCNN/epochs:009-val_acc:1.000.hdf5\n",
            "7/7 [==============================] - 9s 1s/step - loss: 0.4597 - acc: 0.7692 - val_loss: 0.0505 - val_acc: 1.0000\n",
            "Epoch 10/25\n",
            "7/7 [==============================] - ETA: 0s - loss: 0.1480 - acc: 0.9231\n",
            "Epoch 10: saving model to /content/drive/MyDrive/KULIAH/PCVK/final_project/MyCNN/epochs:010-val_acc:0.750.hdf5\n",
            "7/7 [==============================] - 10s 1s/step - loss: 0.1480 - acc: 0.9231 - val_loss: 2.1588 - val_acc: 0.7500\n",
            "Epoch 11/25\n",
            "7/7 [==============================] - ETA: 0s - loss: 0.8878 - acc: 0.7692\n",
            "Epoch 11: saving model to /content/drive/MyDrive/KULIAH/PCVK/final_project/MyCNN/epochs:011-val_acc:1.000.hdf5\n",
            "7/7 [==============================] - 10s 2s/step - loss: 0.8878 - acc: 0.7692 - val_loss: 0.0058 - val_acc: 1.0000\n",
            "Epoch 12/25\n",
            "7/7 [==============================] - ETA: 0s - loss: 0.8223 - acc: 0.8077\n",
            "Epoch 12: saving model to /content/drive/MyDrive/KULIAH/PCVK/final_project/MyCNN/epochs:012-val_acc:1.000.hdf5\n",
            "7/7 [==============================] - 10s 1s/step - loss: 0.8223 - acc: 0.8077 - val_loss: 0.0503 - val_acc: 1.0000\n",
            "Epoch 13/25\n",
            "7/7 [==============================] - ETA: 0s - loss: 0.6830 - acc: 0.8077\n",
            "Epoch 13: saving model to /content/drive/MyDrive/KULIAH/PCVK/final_project/MyCNN/epochs:013-val_acc:0.750.hdf5\n",
            "7/7 [==============================] - 10s 2s/step - loss: 0.6830 - acc: 0.8077 - val_loss: 1.2455 - val_acc: 0.7500\n",
            "Epoch 14/25\n",
            "7/7 [==============================] - ETA: 0s - loss: 0.0808 - acc: 0.9615\n",
            "Epoch 14: saving model to /content/drive/MyDrive/KULIAH/PCVK/final_project/MyCNN/epochs:014-val_acc:0.750.hdf5\n",
            "7/7 [==============================] - 9s 1s/step - loss: 0.0808 - acc: 0.9615 - val_loss: 1.3202 - val_acc: 0.7500\n",
            "Epoch 15/25\n",
            "7/7 [==============================] - ETA: 0s - loss: 0.6188 - acc: 0.8571\n",
            "Epoch 15: saving model to /content/drive/MyDrive/KULIAH/PCVK/final_project/MyCNN/epochs:015-val_acc:0.500.hdf5\n",
            "7/7 [==============================] - 11s 2s/step - loss: 0.6188 - acc: 0.8571 - val_loss: 0.6498 - val_acc: 0.5000\n",
            "Epoch 16/25\n",
            "7/7 [==============================] - ETA: 0s - loss: 0.1326 - acc: 1.0000\n",
            "Epoch 16: saving model to /content/drive/MyDrive/KULIAH/PCVK/final_project/MyCNN/epochs:016-val_acc:1.000.hdf5\n",
            "7/7 [==============================] - 11s 2s/step - loss: 0.1326 - acc: 1.0000 - val_loss: 0.0467 - val_acc: 1.0000\n",
            "Epoch 17/25\n",
            "7/7 [==============================] - ETA: 0s - loss: 0.1624 - acc: 0.8846\n",
            "Epoch 17: saving model to /content/drive/MyDrive/KULIAH/PCVK/final_project/MyCNN/epochs:017-val_acc:1.000.hdf5\n",
            "7/7 [==============================] - 10s 1s/step - loss: 0.1624 - acc: 0.8846 - val_loss: 0.1042 - val_acc: 1.0000\n",
            "Epoch 18/25\n",
            "7/7 [==============================] - ETA: 0s - loss: 0.4240 - acc: 0.8462\n",
            "Epoch 18: saving model to /content/drive/MyDrive/KULIAH/PCVK/final_project/MyCNN/epochs:018-val_acc:0.750.hdf5\n",
            "7/7 [==============================] - 11s 2s/step - loss: 0.4240 - acc: 0.8462 - val_loss: 1.1686 - val_acc: 0.7500\n",
            "Epoch 19/25\n",
            "7/7 [==============================] - ETA: 0s - loss: 0.5077 - acc: 0.8462\n",
            "Epoch 19: saving model to /content/drive/MyDrive/KULIAH/PCVK/final_project/MyCNN/epochs:019-val_acc:1.000.hdf5\n",
            "7/7 [==============================] - 10s 1s/step - loss: 0.5077 - acc: 0.8462 - val_loss: 0.1763 - val_acc: 1.0000\n",
            "Epoch 20/25\n",
            "7/7 [==============================] - ETA: 0s - loss: 0.8760 - acc: 0.7692\n",
            "Epoch 20: saving model to /content/drive/MyDrive/KULIAH/PCVK/final_project/MyCNN/epochs:020-val_acc:1.000.hdf5\n",
            "7/7 [==============================] - 10s 1s/step - loss: 0.8760 - acc: 0.7692 - val_loss: 0.0800 - val_acc: 1.0000\n",
            "Epoch 21/25\n",
            "7/7 [==============================] - ETA: 0s - loss: 0.0069 - acc: 1.0000\n",
            "Epoch 21: saving model to /content/drive/MyDrive/KULIAH/PCVK/final_project/MyCNN/epochs:021-val_acc:1.000.hdf5\n",
            "7/7 [==============================] - 11s 2s/step - loss: 0.0069 - acc: 1.0000 - val_loss: 1.5378e-05 - val_acc: 1.0000\n",
            "Epoch 22/25\n",
            "7/7 [==============================] - ETA: 0s - loss: 0.3087 - acc: 0.8929\n",
            "Epoch 22: saving model to /content/drive/MyDrive/KULIAH/PCVK/final_project/MyCNN/epochs:022-val_acc:1.000.hdf5\n",
            "7/7 [==============================] - 11s 2s/step - loss: 0.3087 - acc: 0.8929 - val_loss: 0.0531 - val_acc: 1.0000\n",
            "Epoch 23/25\n",
            "7/7 [==============================] - ETA: 0s - loss: 0.0929 - acc: 0.9615\n",
            "Epoch 23: saving model to /content/drive/MyDrive/KULIAH/PCVK/final_project/MyCNN/epochs:023-val_acc:1.000.hdf5\n",
            "7/7 [==============================] - 12s 2s/step - loss: 0.0929 - acc: 0.9615 - val_loss: 9.8484e-04 - val_acc: 1.0000\n",
            "Epoch 24/25\n",
            "7/7 [==============================] - ETA: 0s - loss: 0.3552 - acc: 0.9615\n",
            "Epoch 24: saving model to /content/drive/MyDrive/KULIAH/PCVK/final_project/MyCNN/epochs:024-val_acc:1.000.hdf5\n",
            "7/7 [==============================] - 10s 1s/step - loss: 0.3552 - acc: 0.9615 - val_loss: 0.0024 - val_acc: 1.0000\n",
            "Epoch 25/25\n",
            "7/7 [==============================] - ETA: 0s - loss: 0.1604 - acc: 0.9615\n",
            "Epoch 25: saving model to /content/drive/MyDrive/KULIAH/PCVK/final_project/MyCNN/epochs:025-val_acc:0.750.hdf5\n",
            "7/7 [==============================] - 10s 1s/step - loss: 0.1604 - acc: 0.9615 - val_loss: 1.0271 - val_acc: 0.7500\n"
          ]
        }
      ]
    },
    {
      "cell_type": "code",
      "source": [
        "# Model evaluation\n",
        "scores_train = model.evaluate(train_generator,verbose=1)\n",
        "scores_validation = model.evaluate(validation_generator,verbose=1)\n",
        "print(\"Train Accuracy: %.2f%%\" % (scores_train[1]*100))\n",
        "print(\"Validation Accuracy: %.2f%%\" % (scores_validation[1]*100))\n",
        "#For plotting Accuracy and Loss\n",
        "def LearningCurve(history):\n",
        "# summarize history for accuracy\n",
        "  plt.plot(history.history['acc'])\n",
        "  plt.plot(history.history['val_acc'])\n",
        "  plt.title('model accuracy')\n",
        "  plt.ylabel('accuracy')\n",
        "  plt.xlabel('epoch')\n",
        "  plt.legend(['train', 'validation'], loc='upper left')\n",
        "  plt.show()\n",
        "# summarize history for loss\n",
        "  plt.plot(history.history['loss'])\n",
        "  plt.plot(history.history['val_loss'])\n",
        "  plt.title('model loss')\n",
        "  plt.ylabel('loss')\n",
        "  plt.xlabel('epoch')\n",
        "  plt.legend(['train', 'validation'], loc='upper left')\n",
        "  plt.show()\n",
        "  LearningCurve(history)\n",
        "#Save the trained model to a file \n",
        "model_weight_file='/content/drive/MyDrive/KULIAH/PCVK/final_project/MyCNN/leaf_img.h5'\n",
        "model.save(model_weight_file)"
      ],
      "metadata": {
        "colab": {
          "base_uri": "https://localhost:8080/"
        },
        "id": "ZWZDPkw2TxCH",
        "outputId": "f4246536-d45f-4118-c2fb-f4391642d37e"
      },
      "execution_count": 31,
      "outputs": [
        {
          "output_type": "stream",
          "name": "stdout",
          "text": [
            "8/8 [==============================] - 8s 918ms/step - loss: 0.2583 - acc: 0.8667\n",
            "2/2 [==============================] - 2s 517ms/step - loss: 0.0909 - acc: 1.0000\n",
            "Train Accuracy: 86.67%\n",
            "Validation Accuracy: 100.00%\n"
          ]
        }
      ]
    },
    {
      "cell_type": "code",
      "source": [
        "# We take the ceiling because we do not drop the remainder of the batch\n",
        "compute_steps_per_epoch = lambda x: int(math.ceil(1. * x / batch_size))\n",
        "test_steps = compute_steps_per_epoch(test_size)\n",
        "test_generator = test_datagen.flow_from_directory(\n",
        "                 test_path,\n",
        "                 target_size=target_size, \n",
        "                 batch_size=batch_size,\n",
        "                 class_mode=None,\n",
        "                 shuffle=False)\n",
        "test_generator.reset()\n",
        "#Calling the saved model for making predictions\n",
        "tl_img_aug_cnn = load_model(model_weight_file)\n",
        "pred=tl_img_aug_cnn.predict(test_generator,\n",
        "                            verbose=1,\n",
        "                            steps=test_steps)\n",
        "predicted_class_indices=np.argmax(pred,axis=1)\n",
        "labels = (test_generator.class_indices)\n",
        "labels = dict((v,k) for k,v in labels.items())\n",
        "predictions = [labels[k] for k in predicted_class_indices]\n",
        "filenames=test_generator.filenames\n",
        "results=pd.DataFrame({\"Filename\":filenames,\n",
        "                      \"Predictions\":predictions})\n",
        "#create a function for visualizing model performance\n",
        "import seaborn as sns\n",
        "def PerformanceReports(conf_matrix,class_report,labels):\n",
        "    ax= plt.subplot()\n",
        "    sns.heatmap(conf_matrix, annot=True,ax=ax)\n",
        "    #labels, title and ticks\n",
        "    ax.set_xlabel('Predicted labels')\n",
        "    ax.set_ylabel('True labels')\n",
        "    ax.set_title('Confusion Matrix')\n",
        "    ax.xaxis.set_ticklabels(labels)\n",
        "    ax.yaxis.set_ticklabels(labels)\n",
        "    plt.show()\n",
        "    ax= plt.subplot()\n",
        "    sns.heatmap(pd.DataFrame(class_report).iloc[:-1, :].T,  \n",
        "                annot=True,ax=ax)\n",
        "    ax.set_title('Classification Report')\n",
        "    plt.show()\n",
        "from sklearn.metrics import confusion_matrix,classification_report,accuracy_score\n",
        "labels=['fagus_sylvatica','eucalyptus_glaucescens','cornus_controversa']\n",
        "test_labels = [fn.split('/')[0] for fn in filenames]\n",
        "cm=confusion_matrix(test_labels,predictions)\n",
        "print(cm)\n",
        "cr=classification_report(test_labels, predictions)\n",
        "class_report=classification_report(test_labels, predictions,\n",
        "                                   target_names=labels,\n",
        "                                   output_dict=True)\n",
        "print(cr)\n",
        "PerformanceReports(cm,class_report,labels)"
      ],
      "metadata": {
        "colab": {
          "base_uri": "https://localhost:8080/",
          "height": 943
        },
        "id": "uMaF2SnDY7wZ",
        "outputId": "8e1dab43-4ad6-44d3-afc7-42bc9060344a"
      },
      "execution_count": 32,
      "outputs": [
        {
          "output_type": "stream",
          "name": "stdout",
          "text": [
            "Found 12 images belonging to 3 classes.\n",
            "WARNING:tensorflow:AutoGraph could not transform <function Model.make_predict_function.<locals>.predict_function at 0x7fc0c9071c20> and will run it as-is.\n",
            "Please report this to the TensorFlow team. When filing the bug, set the verbosity to 10 (on Linux, `export AUTOGRAPH_VERBOSITY=10`) and attach the full output.\n",
            "Cause: 'arguments' object has no attribute 'posonlyargs'\n",
            "To silence this warning, decorate the function with @tf.autograph.experimental.do_not_convert\n",
            "WARNING: AutoGraph could not transform <function Model.make_predict_function.<locals>.predict_function at 0x7fc0c9071c20> and will run it as-is.\n",
            "Please report this to the TensorFlow team. When filing the bug, set the verbosity to 10 (on Linux, `export AUTOGRAPH_VERBOSITY=10`) and attach the full output.\n",
            "Cause: 'arguments' object has no attribute 'posonlyargs'\n",
            "To silence this warning, decorate the function with @tf.autograph.experimental.do_not_convert\n",
            "3/3 [==============================] - 4s 909ms/step\n",
            "[[4 0 0]\n",
            " [0 3 1]\n",
            " [0 0 4]]\n",
            "                        precision    recall  f1-score   support\n",
            "\n",
            "    Cornus_Controversa       1.00      1.00      1.00         4\n",
            "Eucalyptus_Glaucescens       1.00      0.75      0.86         4\n",
            "       Fagus_Sylvatica       0.80      1.00      0.89         4\n",
            "\n",
            "              accuracy                           0.92        12\n",
            "             macro avg       0.93      0.92      0.92        12\n",
            "          weighted avg       0.93      0.92      0.92        12\n",
            "\n"
          ]
        },
        {
          "output_type": "display_data",
          "data": {
            "text/plain": [
              "<Figure size 432x288 with 2 Axes>"
            ],
            "image/png": "[encoded data removed]"
          },
          "metadata": {
            "needs_background": "light"
          }
        },
        {
          "output_type": "display_data",
          "data": {
            "text/plain": [
              "<Figure size 432x288 with 2 Axes>"
            ],
            "image/png": "[encoded data removed]"
          },
          "metadata": {
            "needs_background": "light"
          }
        }
      ]
    },
    {
      "cell_type": "code",
      "source": [
        "labels = (train_generator.class_indices)\n",
        "labels = dict((v,k) for k,v in labels.items())\n",
        "predictions = [labels[k] for k in predicted_class_indices]"
      ],
      "metadata": {
        "id": "OTNgGpOgbGKx"
      },
      "execution_count": 20,
      "outputs": []
    },
    {
      "cell_type": "code",
      "source": [
        "filenames=test_generator.filenames\n",
        "results=pd.DataFrame({\"Filename\":filenames,\n",
        "                      \"Predictions\":predictions})"
      ],
      "metadata": {
        "id": "oXhD03mSbMHe"
      },
      "execution_count": 21,
      "outputs": []
    },
    {
      "cell_type": "code",
      "source": [
        "import numpy as np\n",
        "from google.colab import files\n",
        "import tensorflow\n",
        "from tensorflow.keras.preprocessing import image\n",
        "import matplotlib.pyplot as plt\n",
        "import matplotlib.image as mpimg\n",
        "%matplotlib inline\n",
        "\n",
        "uploaded = files.upload()\n",
        "\n",
        "for fn in uploaded.keys():\n",
        "  \n",
        "  path = fn\n",
        "  img = image.load_img(path, target_size=(300, 300))\n",
        "  imgplot = plt.imshow(img)\n",
        "  x = image.img_to_array(img)\n",
        "  x = np.expand_dims(x, axis=0)\n",
        "\n",
        "  images = np.vstack([x])\n",
        "  classes = model.predict(images, batch_size=4)\n",
        "\n",
        "  print(fn)\n",
        "  if classes[0,0]==1:\n",
        "    print('fagus_sylvatica')\n",
        "  elif classes[0,1]==1:\n",
        "    print('eucalyptus_glaucescens')\n",
        "  else:\n",
        "    print('cornus_controversa')"
      ],
      "metadata": {
        "colab": {
          "resources": {
            "http://localhost:8080/nbextensions/google.colab/files.js": {
              "data": "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",
              "ok": true,
              "headers": [
                [
                  "content-type",
                  "application/javascript"
                ]
              ],
              "status": 200,
              "status_text": ""
            }
          },
          "base_uri": "https://localhost:8080/",
          "height": 373
        },
        "id": "nSFnit7vtOgs",
        "outputId": "f62db415-3764-46a8-e3f1-7aedf0040cce"
      },
      "execution_count": 45,
      "outputs": [
        {
          "output_type": "display_data",
          "data": {
            "text/plain": [
              "<IPython.core.display.HTML object>"
            ],
            "text/html": [
              "\n",
              "     <input type=\"file\" id=\"files-b3f290e2-372c-486e-b200-5c2a0fc7827c\" name=\"files[]\" multiple disabled\n",
              "        style=\"border:none\" />\n",
              "     <output id=\"result-b3f290e2-372c-486e-b200-5c2a0fc7827c\">\n",
              "      Upload widget is only available when the cell has been executed in the\n",
              "      current browser session. Please rerun this cell to enable.\n",
              "      </output>\n",
              "      <script src=\"/nbextensions/google.colab/files.js\"></script> "
            ]
          },
          "metadata": {}
        },
        {
          "output_type": "stream",
          "name": "stdout",
          "text": [
            "Saving cornus_controversa_13.ab.jpg to cornus_controversa_13.ab (3).jpg\n",
            "1/1 [==============================] - 0s 294ms/step\n",
            "cornus_controversa_13.ab.jpg\n",
            "cornus_controversa\n"
          ]
        },
        {
          "output_type": "display_data",
          "data": {
            "text/plain": [
              "<Figure size 432x288 with 1 Axes>"
            ],
            "image/png": "[encoded data removed]"
          },
          "metadata": {
            "needs_background": "light"
          }
        }
      ]
    }
  ]
}